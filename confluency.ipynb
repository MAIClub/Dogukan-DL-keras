{
  "nbformat": 4,
  "nbformat_minor": 0,
  "metadata": {
    "colab": {
      "name": "confluency.ipynb",
      "provenance": [],
      "collapsed_sections": [],
      "include_colab_link": true
    },
    "kernelspec": {
      "name": "python3",
      "display_name": "Python 3"
    }
  },
  "cells": [
    {
      "cell_type": "markdown",
      "metadata": {
        "id": "view-in-github",
        "colab_type": "text"
      },
      "source": [
        "<a href=\"https://colab.research.google.com/github/TYZAUM/Dogukan-DL-keras/blob/master/confluency.ipynb\" target=\"_parent\"><img src=\"https://colab.research.google.com/assets/colab-badge.svg\" alt=\"Open In Colab\"/></a>"
      ]
    },
    {
      "cell_type": "code",
      "metadata": {
        "id": "OBEb1s_zrkdQ",
        "colab_type": "code",
        "colab": {}
      },
      "source": [
        "!mkdir /root/.kaggle/\n",
        "!touch /root/.kaggle/kaggle.json\n",
        "!chmod 600 /root/.kaggle/kaggle.json\n",
        "!echo '{\"username\":\"maibot\",\"key\":\"6d074d5b96d5e062ee89f0330b8a4cc2\"}' > /root/.kaggle/kaggle.json\n",
        "!kaggle datasets download -d batuhanyndny/hddataset\n",
        "!mkdir dataset\n",
        "!unzip hddataset.zip -d dataset"
      ],
      "execution_count": 0,
      "outputs": []
    },
    {
      "cell_type": "code",
      "metadata": {
        "id": "JgJIsy66tIgY",
        "colab_type": "code",
        "colab": {}
      },
      "source": [
        "import numpy as np\n",
        "import cv2\n",
        "import time\n",
        "import datetime\n",
        "\n",
        "class ConvFilter():\n",
        "  \n",
        "  edge1 = np.array([[1,0,-1],\n",
        "                    [0,0,0],\n",
        "                    [-1,0,1]])\n",
        "  \n",
        "  edge2 = np.array([[0,1,0],\n",
        "                    [1,-4,1],\n",
        "                    [0,1,0]])\n",
        "  \n",
        "  laplacian = np.array([[-1,-1,-1],\n",
        "                        [-1,8,-1],\n",
        "                        [-1,-1,-1]])\n",
        "  \n",
        "  sharpen = np.array([[0 ,-1,0],\n",
        "                      [-1, 5,-1],\n",
        "                      [0 ,-1,0]])\n",
        "  \n",
        "  gblur= np.array([[0.0625,0.125,0.0625],\n",
        "                   [0.125, 0.25, 0.125],\n",
        "                   [0.0625,0.125,0.0625]])\n",
        "  \n",
        "  bblur = np.array([[1,1,1],\n",
        "                    [1,1,1],\n",
        "                    [1,1,1]]) / 9\n",
        "  \n",
        "  bsobel = np.array([[-1,-2,-1],\n",
        "                     [0,0,0],\n",
        "                     [1,2,1]])\n",
        "  \n",
        "  lsobel = np.array([[1,0,-1],\n",
        "                     [2,0,-2],\n",
        "                     [1,0,-1]])\n",
        "  \n",
        "  rsobel = np.array([[-1,0,1],\n",
        "                     [-2,0,2],\n",
        "                     [-1,0,1]])\n",
        "  \n",
        "  tsobel = np.array([[1,2,1],\n",
        "                     [0,0,0],\n",
        "                     [-1,-2,-1]])\n",
        "  \n",
        "  emboss = np.array([[-2,-1,0],\n",
        "                     [-1,1,1],\n",
        "                     [0,1,2]])\n",
        "  \n",
        "  filter_dict = {'edge1' : edge1,\n",
        "                'edge2' : edge2,\n",
        "                'lapl' : laplacian,\n",
        "                'sharpen' : sharpen,\n",
        "                'gblur' : gblur,\n",
        "                'bblur' : bblur,\n",
        "                'bsobel' : bsobel,\n",
        "                'lsobel' : lsobel,\n",
        "                'rsobel' : rsobel,\n",
        "                'tsobel' : tsobel,\n",
        "                'emboss' : emboss}\n",
        "  \n",
        "  def __init__(self,verbose=1):\n",
        "    self.verbose = verbose\n",
        "\n",
        "  def isInBounds(self,x,y,arr):\n",
        "    if x >= 0 and y >= 0:\n",
        "      try:\n",
        "        t = arr[x][y]\n",
        "      except:\n",
        "        return False\n",
        "      return True\n",
        "    else:\n",
        "      return False\n",
        "    \n",
        "  def kernel_area(self,x,y,arr):\n",
        "    startw = x-1\n",
        "    starth = y-1 \n",
        "    if startw < 0:\n",
        "      startw = 0\n",
        "    if starth < 0:\n",
        "      starth = 0\n",
        "    image_kernel = arr[startw:x+self.kernelw-1,starth:y+self.kernelh-1]\n",
        "    kernel_res = sum(sum(image_kernel * self.kernel_matrix))\n",
        "    \n",
        "    if kernel_res < 0:\n",
        "      kernel_res = 0\n",
        "    elif kernel_res > 255:\n",
        "      kernel_res = 255\n",
        "    \n",
        "    return kernel_res\n",
        "\n",
        "  def transform(self,image,ktype):\n",
        "    start = time.time()\n",
        "    if ktype not in self.__class__.filter_dict:\n",
        "      raise TypeError(\"The filter '\" + str(ktype) + \"' does not exist.\")\n",
        "    else:\n",
        "      self.kernel_matrix = self.__class__.filter_dict[ktype]\n",
        "      self.kernelh = len(self.kernel_matrix[0])\n",
        "      self.kernelw = len(self.kernel_matrix[1])\n",
        "      \n",
        "    red = image[:,:,0]\n",
        "    green = image[:,:,1]\n",
        "    blue = image[:,:,2]\n",
        "    \n",
        "    red = np.pad(red, pad_width=1, mode='constant', constant_values=0)\n",
        "    green = np.pad(green, pad_width=1, mode='constant', constant_values=0)\n",
        "    blue = np.pad(blue, pad_width=1, mode='constant', constant_values=0)\n",
        "\n",
        "    \n",
        "    height = image.shape[0]\n",
        "    width = image.shape[1]\n",
        "    \n",
        "    for k in range(1,height-1):\n",
        "      for l in range(1,width-1):\n",
        "        image[k][l][0] = self.kernel_area(k,l,red)\n",
        "        image[k][l][1] = self.kernel_area(k,l,green)\n",
        "        image[k][l][2] = self.kernel_area(k,l,blue)\n",
        "    end = time.time()\n",
        "    if self.verbose == 1:\n",
        "      print(\"It took {0} for the filter '{1}' to complete transformation\"\n",
        "            .format(datetime.timedelta(seconds=end-start),\n",
        "                    ktype))           \n",
        "    return image[2:-1, 2:-1]"
      ],
      "execution_count": 0,
      "outputs": []
    },
    {
      "cell_type": "code",
      "metadata": {
        "id": "m9PIft6cPXfu",
        "colab_type": "code",
        "colab": {}
      },
      "source": [
        "import cv2\n",
        "import numpy as np\n",
        "import math\n",
        "import time\n",
        "import datetime\n",
        "\n",
        "class Pooling():\n",
        "  \n",
        "  def __init__(self,verbose=1):\n",
        "    self.verbose = verbose\n",
        "\n",
        "  def isInBounds(self,x,y,arr):\n",
        "    try:\n",
        "        a = arr[x][y]\n",
        "    except:\n",
        "        return False\n",
        "    return True\n",
        "  def max_pool_area(self,x,y,arr):\n",
        "    if self.pooling_type == 'max':\n",
        "      return np.amax(arr[x:x+self.kernelX,y:y+self.kernelY]) \n",
        "    elif self.pooling_type == 'average':\n",
        "      return np.average(arr[x:x+self.kernelX,y:y+self.kernelY])\n",
        "    else:\n",
        "      raise TypeError(\"The pooling type '\" + str(self.pooling_type) + \"' does not exist.\\nEither use 'max' or 'average'\")\n",
        "      \n",
        "  def Pool2D(self,image,pooling_type,kernel_size=(3,3),stride=(3,3)):\n",
        "    start = time.time()\n",
        "    self.pooling_type = pooling_type\n",
        "    \n",
        "    if any(x <= 0 for x in kernel_size) or any(x <= 0 for x in stride):\n",
        "      raise TypeError('Neither kernel size nor stride can have a value less than 1')\n",
        "      \n",
        "    self.strideX = stride[0]\n",
        "    self.strideY = stride[1]\n",
        "    \n",
        "    self.kernelX = kernel_size[0]\n",
        "    self.kernelY = kernel_size[1]\n",
        "    \n",
        "    height = image.shape[0]\n",
        "    width = image.shape[1]\n",
        "    \n",
        "    red = image[:,:,0]\n",
        "    green = image[:,:,1]\n",
        "    blue = image[:,:,2]\n",
        "    \n",
        "    newHeight = math.ceil(height / self.strideX)\n",
        "    newWidth = math.ceil(width / self.strideY)\n",
        "\n",
        "    maximg = np.zeros((newHeight,newWidth,3),dtype=np.uint8)\n",
        "    for k in range(0,height,self.strideX):\n",
        "      for l in range(0,width,self.strideY):\n",
        "        newk = int(k / self.strideX)\n",
        "        newl = int(l / self.strideY)\n",
        "        maximg[newk][newl][0] = self.max_pool_area(k,l,red)\n",
        "        maximg[newk][newl][1] = self.max_pool_area(k,l,green)\n",
        "        maximg[newk][newl][2] = self.max_pool_area(k,l,blue)\n",
        "    end = time.time()\n",
        "    \n",
        "    if self.verbose == 1:\n",
        "      print(\"It took {0} for a kernel of {1} with strides {2} to complete {3}-pooling.\".\n",
        "            format(datetime.timedelta(seconds=end-start),\n",
        "                   kernel_size,\n",
        "                   stride,\n",
        "                   self.pooling_type))\n",
        "    return maximg"
      ],
      "execution_count": 0,
      "outputs": []
    },
    {
      "cell_type": "code",
      "metadata": {
        "id": "MofP-RD2mUnh",
        "colab_type": "code",
        "colab": {}
      },
      "source": [
        "def conf(image,stride):\n",
        "  tempimage = np.zeros((image.shape[0],image.shape[1]),dtype=np.uint8)\n",
        "  for i in range(0,image.shape[0],stride):\n",
        "    for j in range(0,image.shape[1],stride):\n",
        "      if sum(sum(image[i:i+stride,j:j+stride])) >= int(255 * (stride**2) * 0.1):\n",
        "        tempimage[i:i+stride,j:j+stride] = 255\n",
        "      else:\n",
        "        tempimage[i:i+stride,j:j+stride] = 0\n",
        "  return tempimage"
      ],
      "execution_count": 0,
      "outputs": []
    },
    {
      "cell_type": "code",
      "metadata": {
        "id": "YZwZkRcbptxL",
        "colab_type": "code",
        "colab": {}
      },
      "source": [
        "def getpercent(theimg): \n",
        "  white = 0\n",
        "  black = 0\n",
        "  for m in range(theimg.shape[0]):\n",
        "    for n in range(theimg.shape[1]):\n",
        "      if theimg[m][n] == 255:\n",
        "        white += 1\n",
        "      else:\n",
        "        black += 1\n",
        "  return (white / black) * 100"
      ],
      "execution_count": 0,
      "outputs": []
    },
    {
      "cell_type": "code",
      "metadata": {
        "id": "BhlFWWeD4C5a",
        "colab_type": "code",
        "outputId": "6cd846f0-6299-46ce-d4a6-17f9f5cca653",
        "colab": {
          "base_uri": "https://localhost:8080/",
          "height": 358
        }
      },
      "source": [
        "from google.colab.patches import cv2_imshow\n",
        "image = cv2.imread('/content/dataset/WoundHealing_09.tif')\n",
        "#gray = cv2.cvtColor(image, cv2.COLOR_BGR2GRAY)\n",
        "filter = ConvFilter()\n",
        "pool = Pooling()\n",
        "image = pool.Pool2D(image,'max',(2,2))\n",
        "cv2_imshow(image)\n",
        "#edgeimg = filter.transform(pimg,'lapl')\n",
        "#cv2_imshow(edgeimg)\n",
        "img1 = filter.transform(image,'emboss')\n",
        "\n",
        "cv2_imshow(img1)\n"
      ],
      "execution_count": 0,
      "outputs": [
        {
          "output_type": "error",
          "ename": "AttributeError",
          "evalue": "ignored",
          "traceback": [
            "\u001b[0;31m---------------------------------------------------------------------------\u001b[0m",
            "\u001b[0;31mAttributeError\u001b[0m                            Traceback (most recent call last)",
            "\u001b[0;32m<ipython-input-6-1d486c75dbbd>\u001b[0m in \u001b[0;36m<module>\u001b[0;34m()\u001b[0m\n\u001b[1;32m      4\u001b[0m \u001b[0mfilter\u001b[0m \u001b[0;34m=\u001b[0m \u001b[0mConvFilter\u001b[0m\u001b[0;34m(\u001b[0m\u001b[0;34m)\u001b[0m\u001b[0;34m\u001b[0m\u001b[0;34m\u001b[0m\u001b[0m\n\u001b[1;32m      5\u001b[0m \u001b[0mpool\u001b[0m \u001b[0;34m=\u001b[0m \u001b[0mPooling\u001b[0m\u001b[0;34m(\u001b[0m\u001b[0;34m)\u001b[0m\u001b[0;34m\u001b[0m\u001b[0;34m\u001b[0m\u001b[0m\n\u001b[0;32m----> 6\u001b[0;31m \u001b[0mimage\u001b[0m \u001b[0;34m=\u001b[0m \u001b[0mpool\u001b[0m\u001b[0;34m.\u001b[0m\u001b[0mPool2D\u001b[0m\u001b[0;34m(\u001b[0m\u001b[0mimage\u001b[0m\u001b[0;34m,\u001b[0m\u001b[0;34m'max'\u001b[0m\u001b[0;34m,\u001b[0m\u001b[0;34m(\u001b[0m\u001b[0;36m2\u001b[0m\u001b[0;34m,\u001b[0m\u001b[0;36m2\u001b[0m\u001b[0;34m)\u001b[0m\u001b[0;34m)\u001b[0m\u001b[0;34m\u001b[0m\u001b[0;34m\u001b[0m\u001b[0m\n\u001b[0m\u001b[1;32m      7\u001b[0m \u001b[0mcv2_imshow\u001b[0m\u001b[0;34m(\u001b[0m\u001b[0mimage\u001b[0m\u001b[0;34m)\u001b[0m\u001b[0;34m\u001b[0m\u001b[0;34m\u001b[0m\u001b[0m\n\u001b[1;32m      8\u001b[0m \u001b[0;31m#edgeimg = filter.transform(pimg,'lapl')\u001b[0m\u001b[0;34m\u001b[0m\u001b[0;34m\u001b[0m\u001b[0;34m\u001b[0m\u001b[0m\n",
            "\u001b[0;32m<ipython-input-3-b3e01c386982>\u001b[0m in \u001b[0;36mPool2D\u001b[0;34m(self, image, pooling_type, kernel_size, stride)\u001b[0m\n\u001b[1;32m     37\u001b[0m     \u001b[0mself\u001b[0m\u001b[0;34m.\u001b[0m\u001b[0mkernelY\u001b[0m \u001b[0;34m=\u001b[0m \u001b[0mkernel_size\u001b[0m\u001b[0;34m[\u001b[0m\u001b[0;36m1\u001b[0m\u001b[0;34m]\u001b[0m\u001b[0;34m\u001b[0m\u001b[0;34m\u001b[0m\u001b[0m\n\u001b[1;32m     38\u001b[0m \u001b[0;34m\u001b[0m\u001b[0m\n\u001b[0;32m---> 39\u001b[0;31m     \u001b[0mheight\u001b[0m \u001b[0;34m=\u001b[0m \u001b[0mimage\u001b[0m\u001b[0;34m.\u001b[0m\u001b[0mshape\u001b[0m\u001b[0;34m[\u001b[0m\u001b[0;36m0\u001b[0m\u001b[0;34m]\u001b[0m\u001b[0;34m\u001b[0m\u001b[0;34m\u001b[0m\u001b[0m\n\u001b[0m\u001b[1;32m     40\u001b[0m     \u001b[0mwidth\u001b[0m \u001b[0;34m=\u001b[0m \u001b[0mimage\u001b[0m\u001b[0;34m.\u001b[0m\u001b[0mshape\u001b[0m\u001b[0;34m[\u001b[0m\u001b[0;36m1\u001b[0m\u001b[0;34m]\u001b[0m\u001b[0;34m\u001b[0m\u001b[0;34m\u001b[0m\u001b[0m\n\u001b[1;32m     41\u001b[0m \u001b[0;34m\u001b[0m\u001b[0m\n",
            "\u001b[0;31mAttributeError\u001b[0m: 'NoneType' object has no attribute 'shape'"
          ]
        }
      ]
    },
    {
      "cell_type": "code",
      "metadata": {
        "id": "cfr9qw724Qit",
        "colab_type": "code",
        "outputId": "66f7dee8-3906-4fad-fa52-c7184e94b25f",
        "colab": {
          "base_uri": "https://localhost:8080/",
          "height": 1000
        }
      },
      "source": [
        "gray = cv2.cvtColor(img1, cv2.COLOR_BGR2GRAY)\n",
        "t = conf(gray,5)\n",
        "cv2_imshow(t)\n",
        "print(getpercent(t))"
      ],
      "execution_count": 0,
      "outputs": [
        {
          "output_type": "display_data",
          "data": {
            "image/png": "[encoded data removed]",
            "text/plain": [
              "<PIL.Image.Image image mode=L size=1373x1101 at 0x7FB5F5479E80>"
            ]
          },
          "metadata": {
            "tags": []
          }
        },
        {
          "output_type": "stream",
          "text": [
            "33.213573804123115\n"
          ],
          "name": "stdout"
        }
      ]
    },
    {
      "cell_type": "code",
      "metadata": {
        "id": "71ngVq1X7epp",
        "colab_type": "code",
        "colab": {}
      },
      "source": [
        ""
      ],
      "execution_count": 0,
      "outputs": []
    }
  ]
}