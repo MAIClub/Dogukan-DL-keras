{
  "nbformat": 4,
  "nbformat_minor": 0,
  "metadata": {
    "colab": {
      "name": "Googleplayann.ipynb",
      "version": "0.3.2",
      "provenance": [],
      "collapsed_sections": [],
      "include_colab_link": true
    },
    "kernelspec": {
      "name": "python3",
      "display_name": "Python 3"
    },
    "accelerator": "TPU"
  },
  "cells": [
    {
      "cell_type": "markdown",
      "metadata": {
        "id": "view-in-github",
        "colab_type": "text"
      },
      "source": [
        "<a href=\"https://colab.research.google.com/github/TYZAUM/Dogukan-DL-keras/blob/master/GooglePlayANN/Googleplayann.ipynb\" target=\"_parent\"><img src=\"https://colab.research.google.com/assets/colab-badge.svg\" alt=\"Open In Colab\"/></a>"
      ]
    },
    {
      "cell_type": "code",
      "metadata": {
        "id": "jCzGTNHSXvAc",
        "colab_type": "code",
        "colab": {}
      },
      "source": [
        "from google.colab import drive\n",
        "drive.mount('/gdrive/')\n",
        "%cd /gdrive/\n",
        "%cd 'My Drive/Colab-Notebooks'"
      ],
      "execution_count": 0,
      "outputs": []
    },
    {
      "cell_type": "code",
      "metadata": {
        "id": "LZLIM2JiZgMO",
        "colab_type": "code",
        "colab": {}
      },
      "source": [
        "import pandas as pd\n",
        "import numpy as np\n",
        "## data cleanup ##\n",
        "\n",
        "df = pd.read_csv(\"googleplaystore.csv\")\n",
        "del df[\"Last Updated\"]\n",
        "size = df.iloc[:,4].values\n",
        "installs = df.iloc[:,5].values\n",
        "for i in range(len(size)):\n",
        "    size[i] = size[i].replace(\"M\",\"\")\n",
        "    size[i] = size[i].replace(\"k\",\"\") \n",
        "for i in range(len(installs)):\n",
        "    installs[i] = installs[i].replace(\",\",\"\")\n",
        "\n",
        "x = df.iloc[:,1:5].join(df.iloc[:,6:10]).values\n",
        "y = df[\"Installs\"].values\n",
        "#Label and Hot Encode\n",
        "from sklearn.preprocessing import LabelEncoder,OneHotEncoder\n",
        "from sklearn.externals import joblib\n",
        "from keras.utils import np_utils\n",
        "categoryEncoder = LabelEncoder()\n",
        "#ypeEncoder = LabelEncoder()\n",
        "#contentEncoder = LabelEncoder()\n",
        "#genreEncoder = LabelEncoder()\n",
        "x[:,0] = categoryEncoder.fit_transform(x[:, 0])\n",
        "x[:,4] = categoryEncoder.fit_transform(x[:,4])\n",
        "x[:,6] = categoryEncoder.fit_transform(x[:,6])\n",
        "x[:,7] = categoryEncoder.fit_transform(x[:,7])\n",
        "oneHotEncoder = OneHotEncoder(categorical_features=[0,4,6,7])\n",
        "x = oneHotEncoder.fit_transform(x).toarray()\n",
        "joblib.dump(categoryEncoder,\"encoder.pkl\")\n",
        "\n",
        "# encode class values as integers\n",
        "encoder = LabelEncoder()\n",
        "encoder.fit(y)\n",
        "encoded_Y = encoder.transform(y)\n",
        "# convert integers to dummy variables (i.e. one hot encoded)\n",
        "dummy_y = np_utils.to_categorical(encoded_Y)\n",
        "\n",
        "from sklearn.model_selection import train_test_split\n",
        "x_train,x_test,y_train,y_test = train_test_split(x,dummy_y, test_size=0.2,random_state = 0)\n",
        "\n",
        "from sklearn.preprocessing import StandardScaler\n",
        "scaler=StandardScaler()\n",
        "x_train = scaler.fit_transform(x_train)\n",
        "x_test = scaler.transform(x_test)"
      ],
      "execution_count": 0,
      "outputs": []
    },
    {
      "cell_type": "code",
      "metadata": {
        "id": "pARLklIZYfES",
        "colab_type": "code",
        "colab": {}
      },
      "source": [
        "from keras.models import Sequential\n",
        "from keras.layers import Dense\n",
        "from keras.layers import Dropout\n",
        "#%% NORMAL TRAIN\n",
        "model =Sequential()\n",
        "model.add(Dense(units = 120, init = 'uniform', activation = 'softsign', input_dim = 155))\n",
        "model.add(Dense(units = 120, init = 'uniform', activation = 'softsign'))\n",
        "model.add(Dense(units = 120, init = 'uniform', activation = 'softsign'))\n",
        "model.add(Dense(units = 120, init = 'uniform', activation = 'softsign'))\n",
        "model.add(Dense(units = 19, init = 'uniform', activation = 'softmax'))\n",
        "model.compile(optimizer = 'adam', loss = 'binary_crossentropy', metrics = ['accuracy'])\n",
        "model.fit(x_train, y_train, batch_size = 100, epochs = 2000)"
      ],
      "execution_count": 0,
      "outputs": []
    },
    {
      "cell_type": "code",
      "metadata": {
        "id": "Q-4N9HAVdVHo",
        "colab_type": "code",
        "colab": {}
      },
      "source": [
        ""
      ],
      "execution_count": 0,
      "outputs": []
    }
  ]
}